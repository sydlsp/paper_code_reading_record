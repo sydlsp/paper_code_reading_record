{
 "cells": [
  {
   "cell_type": "markdown",
   "source": [
    "光流的生成"
   ],
   "metadata": {
    "collapsed": false
   },
   "id": "df13cfc118f494a7"
  },
  {
   "cell_type": "code",
   "execution_count": 26,
   "outputs": [],
   "source": [
    "import numpy as np\n",
    "import torch\n",
    "\n",
    "\n",
    "def gen_flow_circle(center,height,width):\n",
    "    x0,y0=center\n",
    "    \n",
    "    if x0>=height or y0>=width:\n",
    "        raise AttributeError('Error')\n",
    "    flow=np.zeros(shape=(height,width,2),dtype=np.float32)\n",
    "    \n",
    "    #np.tile用于重复数组内的数字，np.expand_dims用于修改数组维度\n",
    "    grid_x=np.tile(np.expand_dims(np.arange(width),0),[height,1])\n",
    "    grid_y=np.tile(np.expand_dims(np.arange(height),1),[1,width])\n",
    "    \n",
    "    grid_x0 = np.tile(np.array([x0]), [height, width])\n",
    "    grid_y0 = np.tile(np.array([y0]), [height, width])\n",
    "    \n",
    "    flow[...,0]=grid_x0-grid_x\n",
    "    flow[...,1]=grid_y0-grid_y\n",
    "    \n",
    "    return flow"
   ],
   "metadata": {
    "collapsed": false,
    "ExecuteTime": {
     "end_time": "2024-03-12T08:07:48.671269900Z",
     "start_time": "2024-03-12T08:07:48.663189100Z"
    }
   },
   "id": "76ebc5c509b96cc6"
  },
  {
   "cell_type": "code",
   "execution_count": 27,
   "outputs": [
    {
     "name": "stdout",
     "output_type": "stream",
     "text": [
      "[[[ 5.  5.]\n",
      "  [ 4.  5.]\n",
      "  [ 3.  5.]\n",
      "  [ 2.  5.]\n",
      "  [ 1.  5.]\n",
      "  [ 0.  5.]\n",
      "  [-1.  5.]\n",
      "  [-2.  5.]\n",
      "  [-3.  5.]\n",
      "  [-4.  5.]\n",
      "  [-5.  5.]]\n",
      "\n",
      " [[ 5.  4.]\n",
      "  [ 4.  4.]\n",
      "  [ 3.  4.]\n",
      "  [ 2.  4.]\n",
      "  [ 1.  4.]\n",
      "  [ 0.  4.]\n",
      "  [-1.  4.]\n",
      "  [-2.  4.]\n",
      "  [-3.  4.]\n",
      "  [-4.  4.]\n",
      "  [-5.  4.]]\n",
      "\n",
      " [[ 5.  3.]\n",
      "  [ 4.  3.]\n",
      "  [ 3.  3.]\n",
      "  [ 2.  3.]\n",
      "  [ 1.  3.]\n",
      "  [ 0.  3.]\n",
      "  [-1.  3.]\n",
      "  [-2.  3.]\n",
      "  [-3.  3.]\n",
      "  [-4.  3.]\n",
      "  [-5.  3.]]\n",
      "\n",
      " [[ 5.  2.]\n",
      "  [ 4.  2.]\n",
      "  [ 3.  2.]\n",
      "  [ 2.  2.]\n",
      "  [ 1.  2.]\n",
      "  [ 0.  2.]\n",
      "  [-1.  2.]\n",
      "  [-2.  2.]\n",
      "  [-3.  2.]\n",
      "  [-4.  2.]\n",
      "  [-5.  2.]]\n",
      "\n",
      " [[ 5.  1.]\n",
      "  [ 4.  1.]\n",
      "  [ 3.  1.]\n",
      "  [ 2.  1.]\n",
      "  [ 1.  1.]\n",
      "  [ 0.  1.]\n",
      "  [-1.  1.]\n",
      "  [-2.  1.]\n",
      "  [-3.  1.]\n",
      "  [-4.  1.]\n",
      "  [-5.  1.]]\n",
      "\n",
      " [[ 5.  0.]\n",
      "  [ 4.  0.]\n",
      "  [ 3.  0.]\n",
      "  [ 2.  0.]\n",
      "  [ 1.  0.]\n",
      "  [ 0.  0.]\n",
      "  [-1.  0.]\n",
      "  [-2.  0.]\n",
      "  [-3.  0.]\n",
      "  [-4.  0.]\n",
      "  [-5.  0.]]\n",
      "\n",
      " [[ 5. -1.]\n",
      "  [ 4. -1.]\n",
      "  [ 3. -1.]\n",
      "  [ 2. -1.]\n",
      "  [ 1. -1.]\n",
      "  [ 0. -1.]\n",
      "  [-1. -1.]\n",
      "  [-2. -1.]\n",
      "  [-3. -1.]\n",
      "  [-4. -1.]\n",
      "  [-5. -1.]]\n",
      "\n",
      " [[ 5. -2.]\n",
      "  [ 4. -2.]\n",
      "  [ 3. -2.]\n",
      "  [ 2. -2.]\n",
      "  [ 1. -2.]\n",
      "  [ 0. -2.]\n",
      "  [-1. -2.]\n",
      "  [-2. -2.]\n",
      "  [-3. -2.]\n",
      "  [-4. -2.]\n",
      "  [-5. -2.]]\n",
      "\n",
      " [[ 5. -3.]\n",
      "  [ 4. -3.]\n",
      "  [ 3. -3.]\n",
      "  [ 2. -3.]\n",
      "  [ 1. -3.]\n",
      "  [ 0. -3.]\n",
      "  [-1. -3.]\n",
      "  [-2. -3.]\n",
      "  [-3. -3.]\n",
      "  [-4. -3.]\n",
      "  [-5. -3.]]\n",
      "\n",
      " [[ 5. -4.]\n",
      "  [ 4. -4.]\n",
      "  [ 3. -4.]\n",
      "  [ 2. -4.]\n",
      "  [ 1. -4.]\n",
      "  [ 0. -4.]\n",
      "  [-1. -4.]\n",
      "  [-2. -4.]\n",
      "  [-3. -4.]\n",
      "  [-4. -4.]\n",
      "  [-5. -4.]]\n",
      "\n",
      " [[ 5. -5.]\n",
      "  [ 4. -5.]\n",
      "  [ 3. -5.]\n",
      "  [ 2. -5.]\n",
      "  [ 1. -5.]\n",
      "  [ 0. -5.]\n",
      "  [-1. -5.]\n",
      "  [-2. -5.]\n",
      "  [-3. -5.]\n",
      "  [-4. -5.]\n",
      "  [-5. -5.]]]\n"
     ]
    }
   ],
   "source": [
    "center=[5,5]\n",
    "flow=gen_flow_circle(center,height=11,width=11)\n",
    "print(flow)"
   ],
   "metadata": {
    "collapsed": false,
    "ExecuteTime": {
     "end_time": "2024-03-12T08:07:48.694097800Z",
     "start_time": "2024-03-12T08:07:48.669270300Z"
    }
   },
   "id": "2cf9ed1ee4eb5c5f"
  },
  {
   "cell_type": "markdown",
   "source": [
    "将光流数据可视化\n",
    "将光流数据可视化的方式有很多，具体可以参考https://blog.csdn.net/tywwwww/article/details/126125681\n",
    "下面用torchversion来进行可视化"
   ],
   "metadata": {
    "collapsed": false
   },
   "id": "5a13c8f260c5b816"
  },
  {
   "cell_type": "code",
   "execution_count": 28,
   "outputs": [],
   "source": [
    "import torch\n",
    "import torchvision\n",
    "from torchvision.utils import flow_to_image\n",
    "\n",
    "def flow_to_image_torch(flow):\n",
    "    \"\"\"\n",
    "    \n",
    "    :param flow: 接收光流矩阵，矩阵的输入类型为np.array\n",
    "    :return: 光流的可视化结果，输出类型为np.array\n",
    "    \"\"\"\n",
    "    #np.transpose(flow,[2,0,1])将原来flow[高,宽,通道数]转化为[通道数,高,宽]\n",
    "    #再利用torch.from_numpy转化为tensor\n",
    "    flow=torch.from_numpy(np.transpose(flow,[2,0,1]))\n",
    "    flow_im=flow_to_image(flow)\n",
    "    \n",
    "    #将flow.im转化为numpy再将通道数转回去\n",
    "    img=np.transpose(flow_im.numpy(),[1,2,0])\n",
    "    print(img.shape)\n",
    "    return img"
   ],
   "metadata": {
    "collapsed": false,
    "ExecuteTime": {
     "end_time": "2024-03-12T08:07:48.699242800Z",
     "start_time": "2024-03-12T08:07:48.685830300Z"
    }
   },
   "id": "6d7074de6905c87f"
  },
  {
   "cell_type": "code",
   "execution_count": 30,
   "outputs": [
    {
     "name": "stdout",
     "output_type": "stream",
     "text": [
      "(11, 11, 3)\n",
      "<class 'numpy.ndarray'>\n"
     ]
    }
   ],
   "source": [
    "flow_img=flow_to_image_torch(flow)\n",
    "print(type(flow_img))"
   ],
   "metadata": {
    "collapsed": false,
    "ExecuteTime": {
     "end_time": "2024-03-12T08:08:04.116168200Z",
     "start_time": "2024-03-12T08:08:04.101878800Z"
    }
   },
   "id": "90c5f0b353fafe85"
  },
  {
   "cell_type": "markdown",
   "source": [
    "将numpy转化为图片输出"
   ],
   "metadata": {
    "collapsed": false
   },
   "id": "f858ee5c7377227e"
  },
  {
   "cell_type": "code",
   "execution_count": 33,
   "outputs": [],
   "source": [
    "from PIL import Image\n",
    "flow_img_show=Image.fromarray(flow_img)\n",
    "flow_img_show.show()\n",
    "#flow_img_show.save('result.jpg')"
   ],
   "metadata": {
    "collapsed": false,
    "ExecuteTime": {
     "end_time": "2024-03-12T08:16:10.304133600Z",
     "start_time": "2024-03-12T08:16:06.753934400Z"
    }
   },
   "id": "fc1663e434142ee6"
  },
  {
   "cell_type": "markdown",
   "source": [
    "光流映射(Warp):\n",
    "将光流应用到某一张图像中"
   ],
   "metadata": {
    "collapsed": false
   },
   "id": "f71213cb0fea2f04"
  },
  {
   "cell_type": "code",
   "execution_count": null,
   "outputs": [],
   "source": [
    "#方式一：\n",
    "import numpy as np\n",
    "\n",
    "def image_warp(im,flow,mode='bilinear'):\n",
    "    \"\"\"\n",
    "    该函数可以对输入图像按照给定光流变换\n",
    "    :param im: 输入图片，图片数据类型为np.array\n",
    "    :param flow: 光流，光流的数据类型为np.array\n",
    "    :param mode: 对光流插值的方式，使得光流可以与图像大小匹配\n",
    "    :return:转换后的图片，图片类型为np.array\n",
    "    \"\"\"\n",
    "    flag = 4\n",
    "    if im.ndim == 2:\n",
    "        height, width = im.shape\n",
    "        num_batch = 1\n",
    "        channels = 1\n",
    "        im = im[np.newaxis, :, :, np.newaxis]\n",
    "        flow = flow[np.newaxis, :, :]\n",
    "        flag = 2\n",
    "    elif im.ndim == 3:\n",
    "        height, width, channels = im.shape\n",
    "        num_batch = 1\n",
    "        im = im[np.newaxis, :, :]\n",
    "        flow = flow[np.newaxis, :, :]\n",
    "        flag = 3\n",
    "    elif im.ndim == 4:\n",
    "        num_batch, height, width, channels = im.shape\n",
    "        flag = 4\n",
    "    else:\n",
    "        raise AttributeError('The dimension of im must be 2, 3 or 4')\n",
    "\n",
    "    max_x = width - 1\n",
    "    max_y = height - 1\n",
    "    zero = 0\n",
    "\n",
    "    # We have to flatten our tensors to vectorize the interpolation\n",
    "    im_flat = np.reshape(im, [-1, channels])\n",
    "    flow_flat = np.reshape(flow, [-1, 2])\n",
    "\n",
    "    # Floor the flow, as the final indices are integers\n",
    "    flow_floor = np.floor(flow_flat).astype(np.int32)\n",
    "\n",
    "    # Construct base indices which are displaced with the flow\n",
    "    pos_x = np.tile(np.arange(width), [height * num_batch])\n",
    "    grid_y = np.tile(np.expand_dims(np.arange(height), 1), [1, width])\n",
    "    pos_y = np.tile(np.reshape(grid_y, [-1]), [num_batch])\n",
    "\n",
    "    x = flow_floor[:, 0]\n",
    "    y = flow_floor[:, 1]\n",
    "\n",
    "    x0 = pos_x + x\n",
    "    y0 = pos_y + y\n",
    "\n",
    "    x0 = np.clip(x0, zero, max_x)\n",
    "    y0 = np.clip(y0, zero, max_y)\n",
    "\n",
    "    dim1 = width * height\n",
    "    batch_offsets = np.arange(num_batch) * dim1\n",
    "    base_grid = np.tile(np.expand_dims(batch_offsets, 1), [1, dim1])\n",
    "    base = np.reshape(base_grid, [-1])\n",
    "\n",
    "    base_y0 = base + y0 * width\n",
    "\n",
    "    if mode == 'nearest':\n",
    "        idx_a = base_y0 + x0\n",
    "        warped_flat = im_flat[idx_a]\n",
    "    elif mode == 'bilinear':\n",
    "        # The fractional part is used to control the bilinear interpolation.\n",
    "        bilinear_weights = flow_flat - np.floor(flow_flat)\n",
    "\n",
    "        xw = bilinear_weights[:, 0]\n",
    "        yw = bilinear_weights[:, 1]\n",
    "\n",
    "        # Compute interpolation weights for 4 adjacent pixels\n",
    "        # expand to num_batch * height * width x 1 for broadcasting in add_n below\n",
    "        wa = np.expand_dims((1 - xw) * (1 - yw), 1) # top left pixel\n",
    "        wb = np.expand_dims((1 - xw) * yw, 1) # bottom left pixel\n",
    "        wc = np.expand_dims(xw * (1 - yw), 1) # top right pixel\n",
    "        wd = np.expand_dims(xw * yw, 1) # bottom right pixel\n",
    "\n",
    "        x1 = x0 + 1\n",
    "        y1 = y0 + 1\n",
    "\n",
    "        x1 = np.clip(x1, zero, max_x)\n",
    "        y1 = np.clip(y1, zero, max_y)\n",
    "\n",
    "        base_y1 = base + y1 * width\n",
    "        idx_a = base_y0 + x0\n",
    "        idx_b = base_y1 + x0\n",
    "        idx_c = base_y0 + x1\n",
    "        idx_d = base_y1 + x1\n",
    "\n",
    "        Ia = im_flat[idx_a]\n",
    "        Ib = im_flat[idx_b]\n",
    "        Ic = im_flat[idx_c]\n",
    "        Id = im_flat[idx_d]\n",
    "\n",
    "        warped_flat = wa * Ia + wb * Ib + wc * Ic + wd * Id\n",
    "    warped = np.reshape(warped_flat, [num_batch, height, width, channels])\n",
    "\n",
    "    if flag == 2:\n",
    "        warped = np.squeeze(warped)\n",
    "    elif flag == 3:\n",
    "        warped = np.squeeze(warped, axis=0)\n",
    "    else:\n",
    "        pass\n",
    "    warped = warped.astype(np.uint8)\n",
    "\n",
    "    return warped"
   ],
   "metadata": {
    "collapsed": false
   },
   "id": "f5c9ef55d8709fab"
  },
  {
   "cell_type": "code",
   "execution_count": null,
   "outputs": [],
   "source": [
    "#方式2(待补充)：\n",
    "#使用torch.nn.functional.grid_sample函数采样(有些论文中是这样使用了这样的方式)\n",
    "#详细一点的解释：https://blog.csdn.net/qq_40968179/article/details/128093033"
   ],
   "metadata": {
    "collapsed": false
   },
   "id": "77e1a5ca08ae181f"
  },
  {
   "cell_type": "markdown",
   "source": [
    "参考：https://blog.csdn.net/qq_33757398/article/details/106332814?spm=1001.2014.3001.5506"
   ],
   "metadata": {
    "collapsed": false
   },
   "id": "410653e211c13cd"
  }
 ],
 "metadata": {
  "kernelspec": {
   "display_name": "Python 3",
   "language": "python",
   "name": "python3"
  },
  "language_info": {
   "codemirror_mode": {
    "name": "ipython",
    "version": 2
   },
   "file_extension": ".py",
   "mimetype": "text/x-python",
   "name": "python",
   "nbconvert_exporter": "python",
   "pygments_lexer": "ipython2",
   "version": "2.7.6"
  }
 },
 "nbformat": 4,
 "nbformat_minor": 5
}
