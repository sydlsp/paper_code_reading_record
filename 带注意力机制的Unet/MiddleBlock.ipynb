{
 "cells": [
  {
   "cell_type": "code",
   "execution_count": 1,
   "id": "initial_id",
   "metadata": {
    "collapsed": true,
    "ExecuteTime": {
     "end_time": "2024-03-15T09:33:56.683003700Z",
     "start_time": "2024-03-15T09:33:54.678549800Z"
    }
   },
   "outputs": [],
   "source": [
    "import torch\n",
    "from torch import nn\n",
    "from utils.ResidualBlock import ResidualBlock\n",
    "from utils.Attention import AttentionBlock"
   ]
  },
  {
   "cell_type": "code",
   "execution_count": 2,
   "outputs": [],
   "source": [
    "#之前的残差块和注意力块都实现过了，中间块的实现看图说话就好"
   ],
   "metadata": {
    "collapsed": false,
    "ExecuteTime": {
     "end_time": "2024-03-15T09:34:00.564215100Z",
     "start_time": "2024-03-15T09:34:00.547826700Z"
    }
   },
   "id": "c19d63c8782f4882"
  },
  {
   "cell_type": "code",
   "execution_count": null,
   "outputs": [],
   "source": [
    "class MiddleBlock(nn.Module):\n",
    "    \"\"\"\n",
    "    中间块是 残差块+注意力+残差块构建而成的\n",
    "    \"\"\"\n",
    "    def __init__(self,n_channels:int,time_channels:int):\n",
    "        super().__init__()\n",
    "        self.res1=ResidualBlock(n_channels,n_channels,time_channels)\n",
    "        self.attn=AttentionBlock(n_channels)\n",
    "        self.res2=ResidualBlock(n_channels,n_channels,time_channels)\n",
    "    \n",
    "    def forward(self,x:torch.Tensor,t:torch.Tensor):\n",
    "        x=self.res1(x,t)\n",
    "        x=self.attn(x)\n",
    "        x=self.res2(x,t)\n",
    "        return x"
   ],
   "metadata": {
    "collapsed": false
   },
   "id": "d043bcd02019a744"
  }
 ],
 "metadata": {
  "kernelspec": {
   "display_name": "Python 3",
   "language": "python",
   "name": "python3"
  },
  "language_info": {
   "codemirror_mode": {
    "name": "ipython",
    "version": 2
   },
   "file_extension": ".py",
   "mimetype": "text/x-python",
   "name": "python",
   "nbconvert_exporter": "python",
   "pygments_lexer": "ipython2",
   "version": "2.7.6"
  }
 },
 "nbformat": 4,
 "nbformat_minor": 5
}
