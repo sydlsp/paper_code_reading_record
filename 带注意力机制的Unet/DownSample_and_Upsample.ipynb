{
 "cells": [
  {
   "cell_type": "code",
   "execution_count": 1,
   "id": "initial_id",
   "metadata": {
    "collapsed": true,
    "ExecuteTime": {
     "end_time": "2024-03-15T09:03:38.605305900Z",
     "start_time": "2024-03-15T09:03:34.762488900Z"
    }
   },
   "outputs": [],
   "source": [
    "import torch\n",
    "from torch import nn"
   ]
  },
  {
   "cell_type": "code",
   "execution_count": 2,
   "outputs": [],
   "source": [
    "class Upsample(nn.Module):\n",
    "    \"\"\"\n",
    "    上采样，主要作用是还原特征，反卷积\n",
    "    \"\"\"\n",
    "    def __init__(self,n_channels):\n",
    "        super().__init__()\n",
    "        #out_size=(in_size-1)*stride+kernel_size,-2*padding+output_padding\n",
    "        #out_size=(in_size-1)*2+4-2*1+0，其实就是把图像尺寸扩大2倍\n",
    "        self.conv=nn.ConvTranspose2d(n_channels,n_channels,kernel_size=(4,4),stride=(2,2),padding=(1,1))\n",
    "    \n",
    "    def forward(self,x:torch.Tensor,t:torch.Tensor):\n",
    "        _=t\n",
    "        return self.conv(x)"
   ],
   "metadata": {
    "collapsed": false,
    "ExecuteTime": {
     "end_time": "2024-03-15T09:24:13.636811700Z",
     "start_time": "2024-03-15T09:24:13.628837800Z"
    }
   },
   "id": "7bb53ebd0b0c3ebd"
  },
  {
   "cell_type": "code",
   "execution_count": 3,
   "outputs": [],
   "source": [
    "class DownSample(nn.Module):\n",
    "    \"\"\"\n",
    "    下采样：其实是特征压缩，卷积\n",
    "    \"\"\"\n",
    "    def __init__(self,n_channels):\n",
    "        super().__init__()\n",
    "        #out_size=(in_size-3+2*2)/2+1，这里是把图像尺寸减小一般\n",
    "        self.conv=nn.Conv2d(n_channels,n_channels,kernel_size=(3,3),stride=(2,2),padding=(1,1))\n",
    "    \n",
    "    def forward(self,x:torch.Tensor,t:torch.Tensor):\n",
    "        _=t\n",
    "        return self.conv(x)"
   ],
   "metadata": {
    "collapsed": false,
    "ExecuteTime": {
     "end_time": "2024-03-15T09:24:14.432016600Z",
     "start_time": "2024-03-15T09:24:14.425486800Z"
    }
   },
   "id": "d4419bc4a8797710"
  },
  {
   "cell_type": "code",
   "execution_count": null,
   "outputs": [],
   "source": [],
   "metadata": {
    "collapsed": false
   },
   "id": "64d059d85ec87ae8"
  }
 ],
 "metadata": {
  "kernelspec": {
   "display_name": "Python 3",
   "language": "python",
   "name": "python3"
  },
  "language_info": {
   "codemirror_mode": {
    "name": "ipython",
    "version": 2
   },
   "file_extension": ".py",
   "mimetype": "text/x-python",
   "name": "python",
   "nbconvert_exporter": "python",
   "pygments_lexer": "ipython2",
   "version": "2.7.6"
  }
 },
 "nbformat": 4,
 "nbformat_minor": 5
}
