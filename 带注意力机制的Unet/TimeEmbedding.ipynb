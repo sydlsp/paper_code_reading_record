{
 "cells": [
  {
   "cell_type": "code",
   "execution_count": 5,
   "id": "initial_id",
   "metadata": {
    "collapsed": true,
    "ExecuteTime": {
     "end_time": "2024-03-14T11:33:11.933936300Z",
     "start_time": "2024-03-14T11:33:11.902295600Z"
    }
   },
   "outputs": [],
   "source": [
    "import torch\n",
    "from torch import nn\n",
    "import math\n",
    "from utils.activate import Swish"
   ]
  },
  {
   "cell_type": "code",
   "execution_count": 2,
   "outputs": [],
   "source": [
    "#Swish是一个激活函数\n",
    "class Swish(nn.Module):\n",
    "    \n",
    "    def __init__(self,beta=1.0):\n",
    "        super().__init__()\n",
    "        self.beta=beta\n",
    "    \n",
    "    def forward(self,x):\n",
    "        return x*torch.sigmoid(self.beta*x)\n",
    "    \n",
    "    "
   ],
   "metadata": {
    "collapsed": false,
    "ExecuteTime": {
     "end_time": "2024-03-14T11:18:48.374766300Z",
     "start_time": "2024-03-14T11:18:48.350159200Z"
    }
   },
   "id": "e8e87d8d7d741934"
  },
  {
   "cell_type": "code",
   "execution_count": 19,
   "outputs": [],
   "source": [
    "class TimeEmbedding(nn.Module):\n",
    "    \"\"\"\n",
    "    该模块把整型数t，按照Transformer函数式的编码方式映射成向量，向量的形状为(batch,time_channel)，这个time_channel其实就是想把t映射成向量的维度\n",
    "    \"\"\"\n",
    "    def __init__(self,n_channels:int):\n",
    "        \"\"\"\n",
    "        \n",
    "        :param n_channels: n_channels就是time_channels\n",
    "        \"\"\"\n",
    "        super().__init__()\n",
    "        self.n_channels=n_channels\n",
    "        self.lin1=nn.Linear(self.n_channels//4,self.n_channels)\n",
    "        self.act=Swish()\n",
    "        self.lin2 = nn.Linear(self.n_channels, self.n_channels)\n",
    "\n",
    "    def forward(self, t: torch.Tensor):\n",
    "        \"\"\"\n",
    "        Params:\n",
    "            t: 维度（batch_size），整型时刻t\n",
    "        \"\"\"\n",
    "        # 以下转换方法和Transformer的位置编码一致\n",
    "        half_dim = self.n_channels // 8\n",
    "        emb = math.log(10_000) / (half_dim - 1)\n",
    "        emb = torch.exp(torch.arange(half_dim, device=t.device) * -emb)\n",
    "        emb = t[:, None] * emb[None, :]\n",
    "        emb = torch.cat((emb.sin(), emb.cos()), dim=1)\n",
    "\n",
    "        # Transform with the MLP\n",
    "        emb = self.act(self.lin1(emb))\n",
    "        emb = self.lin2(emb)\n",
    "\n",
    "        # 输出维度(batch_size, time_channels)\n",
    "        return emb"
   ],
   "metadata": {
    "collapsed": false,
    "ExecuteTime": {
     "end_time": "2024-03-14T12:49:56.196545900Z",
     "start_time": "2024-03-14T12:49:56.186748400Z"
    }
   },
   "id": "1a90b86875e7b9c9"
  },
  {
   "cell_type": "code",
   "execution_count": 20,
   "outputs": [
    {
     "name": "stdout",
     "output_type": "stream",
     "text": [
      "t.shape torch.Size([5])\n",
      "t[:,None].shape torch.Size([5, 1])\n",
      "emb.shape torch.Size([4])\n",
      "emb[None,:] torch.Size([1, 4])\n",
      "emb.shape torch.Size([5, 4])\n",
      "emb.shape torch.Size([5, 8])\n",
      "emb.shape torch.Size([5, 32])\n"
     ]
    },
    {
     "data": {
      "text/plain": "tensor([[-0.0715, -0.1873, -0.2228,  0.0173,  0.0673,  0.0914, -0.2218,  0.2959,\n          0.1476, -0.0188, -0.1146, -0.3305, -0.1300,  0.2299, -0.1995,  0.0468,\n          0.3782, -0.0090,  0.0759, -0.3204,  0.2322,  0.1280,  0.0982,  0.1014,\n          0.0041,  0.2335,  0.1778, -0.0114,  0.1533,  0.1659,  0.0922,  0.0412],\n        [ 0.0282, -0.3186, -0.0710, -0.0284,  0.0559,  0.1017, -0.2001,  0.2207,\n          0.1051,  0.0107, -0.1226, -0.2305, -0.1056,  0.2142, -0.2897,  0.0847,\n          0.2580, -0.0158, -0.0205, -0.3133,  0.2667,  0.1834,  0.0462,  0.0989,\n          0.0120,  0.1591,  0.0761, -0.0761,  0.1562,  0.0580,  0.0889,  0.1325],\n        [ 0.1652, -0.3248,  0.0217,  0.0526,  0.0475,  0.0485, -0.1060,  0.1598,\n          0.0114, -0.0076, -0.0923, -0.1456, -0.0532,  0.1368, -0.3094,  0.1204,\n          0.2065,  0.0156, -0.0945, -0.3069,  0.3100,  0.2385, -0.0463,  0.1196,\n          0.0191,  0.1236,  0.0485, -0.1265,  0.0622,  0.0290,  0.1054,  0.1305],\n        [ 0.2021, -0.1955, -0.0354,  0.1779,  0.0554, -0.0095, -0.0204,  0.1713,\n         -0.0325, -0.0715, -0.0536, -0.1675, -0.0241,  0.0675, -0.2240,  0.1094,\n          0.2860,  0.0567, -0.0865, -0.3001,  0.3148,  0.2233, -0.0879,  0.1517,\n          0.0338,  0.1498,  0.1175, -0.1093, -0.0294,  0.1121,  0.1129,  0.0434],\n        [ 0.1048, -0.0562, -0.2168,  0.2192,  0.0839, -0.0196, -0.0149,  0.2518,\n          0.0260, -0.1381, -0.0360, -0.2933, -0.0593,  0.0647, -0.1204,  0.0786,\n          0.4608,  0.0668,  0.0044, -0.2826,  0.2850,  0.1549, -0.0534,  0.1783,\n          0.0538,  0.2556,  0.2267, -0.0499, -0.0213,  0.2419,  0.0952, -0.0750]],\n       grad_fn=<AddmmBackward0>)"
     },
     "execution_count": 20,
     "metadata": {},
     "output_type": "execute_result"
    }
   ],
   "source": [],
   "metadata": {
    "collapsed": false,
    "ExecuteTime": {
     "end_time": "2024-03-14T12:49:57.005980200Z",
     "start_time": "2024-03-14T12:49:56.968600500Z"
    }
   },
   "id": "de33a63447383afc"
  }
 ],
 "metadata": {
  "kernelspec": {
   "display_name": "Python 3",
   "language": "python",
   "name": "python3"
  },
  "language_info": {
   "codemirror_mode": {
    "name": "ipython",
    "version": 2
   },
   "file_extension": ".py",
   "mimetype": "text/x-python",
   "name": "python",
   "nbconvert_exporter": "python",
   "pygments_lexer": "ipython2",
   "version": "2.7.6"
  }
 },
 "nbformat": 4,
 "nbformat_minor": 5
}
